{
  "nbformat": 4,
  "nbformat_minor": 0,
  "metadata": {
    "interpreter": {
      "hash": "c796eb3e3b883799f02af01b49c30e973f5d9f6ae7feb75a7f340683beca589a"
    },
    "kernelspec": {
      "display_name": "Python 3.10.0 64-bit (system)",
      "language": "python",
      "name": "python3"
    },
    "language_info": {
      "codemirror_mode": {
        "name": "ipython",
        "version": 3
      },
      "file_extension": ".py",
      "mimetype": "text/x-python",
      "name": "python",
      "nbconvert_exporter": "python",
      "pygments_lexer": "ipython3",
      "version": "3.10.0"
    },
    "orig_nbformat": 4,
    "colab": {
      "name": "Join_joinTriTabulek_zadani.ipynb",
      "provenance": [],
      "include_colab_link": true
    }
  },
  "cells": [
    {
      "cell_type": "markdown",
      "metadata": {
        "id": "view-in-github",
        "colab_type": "text"
      },
      "source": [
        "<a href=\"https://colab.research.google.com/github/elfliska/databaze/blob/main/JupyterNotebook/SQL/Join_joinTriTabulek_zadani.ipynb\" target=\"_parent\"><img src=\"https://colab.research.google.com/assets/colab-badge.svg\" alt=\"Open In Colab\"/></a>"
      ]
    },
    {
      "cell_type": "markdown",
      "metadata": {
        "id": "eXz46gyK40aR"
      },
      "source": [
        "# Propojování tabulek\n",
        "Často chceme v dotazu SELECT zobrazit zároveň data z více tabulek.\n",
        "\n",
        "K propojení tabulek se používá klíčové slovo JOIN, které vytvoří ze dvou či více tabulek jednu velkou (se SLOUPEČKY ze všech vstupních tabulek)\n",
        "\n",
        "Je několik typů JOINů (podle toho, které ŘÁDKY chceme ve výsledku), my se však budeme zabívat pouze čtyřmi.\n",
        "\n",
        "A to:\n",
        "* INNER JOIN\n",
        "* LEFT JOIN\n",
        "* RIGHT JOIN\n",
        "* FULL OUTER JOIN\n",
        "\n",
        "Než si vysvětlíme jak JOINy fungují musíme si vytvořit tabulky, na kterých si to předvedeme.\n",
        "\n"
      ]
    },
    {
      "cell_type": "code",
      "metadata": {
        "id": "WDNAdFmw40al",
        "outputId": "eed5b466-a003-4253-b5ff-d611e14d9493",
        "colab": {
          "base_uri": "https://localhost:8080/"
        }
      },
      "source": [
        "! pip install mysql.connector"
      ],
      "execution_count": 1,
      "outputs": [
        {
          "output_type": "stream",
          "name": "stdout",
          "text": [
            "Collecting mysql.connector\n",
            "  Downloading mysql-connector-2.2.9.tar.gz (11.9 MB)\n",
            "\u001b[2K     \u001b[90m━━━━━━━━━━━━━━━━━━━━━━━━━━━━━━━━━━━━━━━━\u001b[0m \u001b[32m11.9/11.9 MB\u001b[0m \u001b[31m90.0 MB/s\u001b[0m eta \u001b[36m0:00:00\u001b[0m\n",
            "\u001b[?25h  Preparing metadata (setup.py) ... \u001b[?25l\u001b[?25hdone\n",
            "Building wheels for collected packages: mysql.connector\n",
            "  Building wheel for mysql.connector (setup.py) ... \u001b[?25l\u001b[?25hdone\n",
            "  Created wheel for mysql.connector: filename=mysql_connector-2.2.9-cp312-cp312-linux_x86_64.whl size=247950 sha256=e407cf75abf04c4b1546f8702a2c3185f083972369b66bc58246c164d599ea4f\n",
            "  Stored in directory: /root/.cache/pip/wheels/03/17/fa/d7604c72dd3dd6d3eb3d249abf36cc532c9a9b4354b8f1bc4f\n",
            "Successfully built mysql.connector\n",
            "Installing collected packages: mysql.connector\n",
            "Successfully installed mysql.connector-2.2.9\n"
          ]
        }
      ]
    },
    {
      "cell_type": "code",
      "metadata": {
        "id": "Vt-YvcHE40as"
      },
      "source": [
        "import mysql.connector\n",
        "\n",
        "mydb = mysql.connector.connect(\n",
        "    host = \"dbs.spskladno.cz\"\n",
        "    ,user = \"student11\"\n",
        "    ,password = \"spsnet\"\n",
        "    ,database = \"vyuka11\"\n",
        ")\n",
        "\n",
        "mycursor = mydb.cursor()\n",
        "\n",
        "try:\n",
        "    mycursor.execute(\"\"\"DROP TABLE Tym;\"\"\")\n",
        "    mydb.commit()\n",
        "except mysql.connector.Error:\n",
        "    print(\"Tabulka Tym neexistuje.\")\n",
        "\n",
        "try:\n",
        "    mycursor.execute(\"\"\"DROP TABLE Hrac;\"\"\")\n",
        "    mydb.commit()\n",
        "except mysql.connector.Error:\n",
        "    print(\"Tabulka Hrac neexistuje.\")\n",
        "\n",
        "try:\n",
        "    mycursor.execute(\"\"\"DROP TABLE Pozice;\"\"\")\n",
        "    mydb.commit()\n",
        "except mysql.connector.Error:\n",
        "    print(\"Tabulka Pozice neexistuje.\")\n",
        "\n",
        "# Vytvoříme si potřebné tabulky\n",
        "mycursor.execute(\"\"\"CREATE TABLE Tym\n",
        "(\n",
        "\tid int AUTO_INCREMENT PRIMARY KEY,\n",
        "\tnazev char(20) NOT NULL,\n",
        "\tmesto char(20) NOT NULL,\n",
        "\tzustatek int DEFAULT 0,\n",
        "\tCONSTRAINT UNIKATNI_tym UNIQUE (nazev, mesto) /* UNIQUE na nazev a mesto zaroveň */\n",
        ");\"\"\")\n",
        "\n",
        "mydb.commit()\n",
        "\n",
        "mycursor.execute(\"\"\"CREATE TABLE Pozice(\n",
        "\tid_poz int PRIMARY KEY AUTO_INCREMENT,\n",
        "\tpojmenovani text NOT NULL\n",
        ");\"\"\")\n",
        "\n",
        "mydb.commit()\n",
        "\n",
        "mycursor.execute(\"\"\"CREATE TABLE Hrac(\n",
        "\tid int AUTO_INCREMENT PRIMARY KEY,\n",
        "\tjmeno text NOT NULL,\n",
        "\tprijmeni text NOT NULL,\n",
        "\tdatum_narozeni DATE NOT NULL,\n",
        "\ttym_id int NOT NULL,\n",
        "\tpozice_id int NOT NULL\n",
        "\n",
        "    /* zde by se hodil ještě FOREIGN KEY, abychom měli jistotu,\n",
        "    že hráče zařazujeme do existujícího týmu */\n",
        ");\"\"\")\n",
        "\n",
        "mydb.commit()\n",
        "\n",
        "# A zapíšeme do nich\n",
        "mycursor.execute(\"\"\"INSERT INTO Tym (nazev, mesto, zustatek) VALUES\n",
        "\t(\"HC Rytíři\", \"Kladno\", 1000),\n",
        "\t(\"HC Slavie\", \"Praha\", 5000),\n",
        "\t(\"HC Sparta\", \"Praha\", 6000),\n",
        "\t(\"HC Sparta\", \"Brno\", 5600);\"\"\")\n",
        "\n",
        "mydb.commit()\n",
        "\n",
        "mycursor.execute(\"\"\"INSERT INTO Pozice(pojmenovani) VALUES\n",
        "\t(\"Utocnik\"),\n",
        "\t(\"Obrana\"),\n",
        "\t(\"Brankar\"),\n",
        "\t(\"Zaloha\");\"\"\")\n",
        "\n",
        "mydb.commit()\n",
        "\n",
        "mycursor.execute(\"\"\"INSERT INTO Hrac (jmeno, prijmeni, datum_narozeni, tym_id, pozice_id) VALUES\n",
        "\t(\"Adam\", \"Prvni\", '1996-06-02', 2, 2),\n",
        "\t(\"Pavel\", \"Druhy\", '2000-09-09', 1, 3),\n",
        "\t(\"Kuba\", \"Treti\", '1998-01-05', 3, 1),\n",
        "\t(\"Josef\", \"Čtvrtý\", '1997-01-06', 6, 2),\n",
        "\t(\"Jirka\", \"Pátý\", '1999-03-08', 2, 6);\"\"\")\n",
        "\n",
        "mydb.commit()\n",
        "\n",
        "mycursor.close()\n",
        "mydb.close()"
      ],
      "execution_count": 2,
      "outputs": []
    },
    {
      "cell_type": "markdown",
      "metadata": {
        "id": "MmHxYfHp40az"
      },
      "source": [
        "## INNER JOIN\n",
        "INNER JOIN je v MySQL databázích nastaven jako defaultní JOIN.\n",
        "\n",
        "Ve výsledku tohoto spojení budou pouze řádky, které mají porovnávanou hodnotu vyplněnou v obou tabulkách.\n",
        "\n",
        "\"Porovnávané hodnoty\" se získávají ze dvou sloupečků (jeden z každé tabulky) a které sloupečky to budou, určujeme my v našem dotazu. Pokud hodnoty splňují zadanou podmínku, SŘBD spojí tyto dva řádky (z jedné a druhé tabulky) do jednoho dlouhého řádku\n",
        "\n",
        "Kód pro použití INNER JOINu může vypadat takto:"
      ]
    },
    {
      "cell_type": "code",
      "metadata": {
        "id": "wCUzjDEC40a5",
        "outputId": "d3e63a4e-c2b7-4dd9-a559-be3ae4683609",
        "colab": {
          "base_uri": "https://localhost:8080/"
        }
      },
      "source": [
        "import mysql.connector\n",
        "\n",
        "mydb = mysql.connector.connect(\n",
        "    host = \"dbs.spskladno.cz\"\n",
        "    ,user = \"student11\"\n",
        "    ,password = \"spsnet\"\n",
        "    ,database = \"vyuka11\"\n",
        ")\n",
        "mycursor = mydb.cursor()\n",
        "\n",
        "# bez zadané podmínky a sloupečků s hodnotami k porovnání\n",
        "mycursor.execute(\"\"\"SELECT prijmeni, datum_narozeni, nazev, mesto FROM Hrac INNER JOIN Tym;\n",
        "\"\"\") # Tento příkaz vypíše kombinace každého hráče s každým týmem.\n",
        "\n",
        "myresult = mycursor.fetchall()\n",
        "\n",
        "for prijmeni, datum_narozeni, nazev, mesto in myresult:\n",
        "    print(f\"Hráč {prijmeni}, s datem narození {datum_narozeni} z týmu {nazev} v městě {mesto}\")\n",
        "\n",
        "print(\"=========\")\n",
        "# Tento JOIN je nám však k ničemu, protože neposkytuje žádné informace\n",
        "# Takže k příkazu tedy přidáme podmínku,\n",
        "# tak aby spolili pouze řádky, kde hrac.tym_id =  tym.id\n",
        "mycursor.execute(\"\"\"SELECT prijmeni, datum_narozeni, nazev, mesto FROM Hrac JOIN Tym\n",
        "    ON Hrac.tym_id = Tym.id;\n",
        "\"\"\")\n",
        "\n",
        "myresult = mycursor.fetchall()\n",
        "\n",
        "for prijmeni, datum_narozeni, nazev, mesto in myresult:\n",
        "    print(f\"Hráč {prijmeni}, s datem narození {datum_narozeni} z týmu {nazev} v městě {mesto}\")\n",
        "# Jak můžete vidět, tak hráč s příjmením Čtvrtý se nevypsal,\n",
        "# protože k jeho tym_id není odpovídající id v tabulce Tym\n",
        "\n",
        "mycursor.close()\n",
        "mydb.close()"
      ],
      "execution_count": 3,
      "outputs": [
        {
          "output_type": "stream",
          "name": "stdout",
          "text": [
            "Hráč Prvni, s datem narození 1996-06-02 z týmu HC Rytíři v městě Kladno\n",
            "Hráč Prvni, s datem narození 1996-06-02 z týmu HC Slavie v městě Praha\n",
            "Hráč Prvni, s datem narození 1996-06-02 z týmu HC Sparta v městě Brno\n",
            "Hráč Prvni, s datem narození 1996-06-02 z týmu HC Sparta v městě Praha\n",
            "Hráč Druhy, s datem narození 2000-09-09 z týmu HC Rytíři v městě Kladno\n",
            "Hráč Druhy, s datem narození 2000-09-09 z týmu HC Slavie v městě Praha\n",
            "Hráč Druhy, s datem narození 2000-09-09 z týmu HC Sparta v městě Brno\n",
            "Hráč Druhy, s datem narození 2000-09-09 z týmu HC Sparta v městě Praha\n",
            "Hráč Treti, s datem narození 1998-01-05 z týmu HC Rytíři v městě Kladno\n",
            "Hráč Treti, s datem narození 1998-01-05 z týmu HC Slavie v městě Praha\n",
            "Hráč Treti, s datem narození 1998-01-05 z týmu HC Sparta v městě Brno\n",
            "Hráč Treti, s datem narození 1998-01-05 z týmu HC Sparta v městě Praha\n",
            "Hráč Čtvrtý, s datem narození 1997-01-06 z týmu HC Rytíři v městě Kladno\n",
            "Hráč Čtvrtý, s datem narození 1997-01-06 z týmu HC Slavie v městě Praha\n",
            "Hráč Čtvrtý, s datem narození 1997-01-06 z týmu HC Sparta v městě Brno\n",
            "Hráč Čtvrtý, s datem narození 1997-01-06 z týmu HC Sparta v městě Praha\n",
            "Hráč Pátý, s datem narození 1999-03-08 z týmu HC Rytíři v městě Kladno\n",
            "Hráč Pátý, s datem narození 1999-03-08 z týmu HC Slavie v městě Praha\n",
            "Hráč Pátý, s datem narození 1999-03-08 z týmu HC Sparta v městě Brno\n",
            "Hráč Pátý, s datem narození 1999-03-08 z týmu HC Sparta v městě Praha\n",
            "=========\n",
            "Hráč Prvni, s datem narození 1996-06-02 z týmu HC Slavie v městě Praha\n",
            "Hráč Druhy, s datem narození 2000-09-09 z týmu HC Rytíři v městě Kladno\n",
            "Hráč Treti, s datem narození 1998-01-05 z týmu HC Sparta v městě Praha\n",
            "Hráč Pátý, s datem narození 1999-03-08 z týmu HC Slavie v městě Praha\n"
          ]
        }
      ]
    },
    {
      "cell_type": "markdown",
      "metadata": {
        "id": "HUO10y9v40a6"
      },
      "source": [
        "## LEFT JOIN\n",
        "Jediný rozdíl od INNER JOINu je v tom jak SŘBD pracuje s chybějícími položkami.\n",
        "LEFT JOIN vezme všechny záznamy z tabulky nalevo a pokud k nim chybí zápis napravo, tak doplní NULL.\n",
        "\n",
        "Kód pro použití LEFT JOINu může vypadat takto:"
      ]
    },
    {
      "cell_type": "code",
      "metadata": {
        "id": "0Z7ulCUd40a-",
        "outputId": "44cb3301-b73a-490c-ad4a-6e611e2609c0",
        "colab": {
          "base_uri": "https://localhost:8080/"
        }
      },
      "source": [
        "import mysql.connector\n",
        "\n",
        "mydb = mysql.connector.connect(\n",
        "    host = \"dbs.spskladno.cz\"\n",
        "    ,user = \"student11\"\n",
        "    ,password = \"spsnet\"\n",
        "    ,database = \"vyuka11\"\n",
        ")\n",
        "mycursor = mydb.cursor()\n",
        "\n",
        "# LEFT JOIN výsledek uzná, i pokud existuje pouze levá část vazby (zde Tym)\n",
        "# a pravá (ta připojovaná, zde Hrac) neexistuje. Do hodnot sloupců z připojované části se vloží NULL.\n",
        "# Levá a pravá část vazby se rozlišuje podle toho kde se název tabulky nachází vzhledem k JOINu.\n",
        "mycursor.execute(\"\"\"SELECT prijmeni, datum_narozeni, nazev, mesto FROM\n",
        "    Tym LEFT JOIN Hrac ON Tym.id=Hrac.tym_id;\n",
        "\"\"\")\n",
        "\n",
        "myresult = mycursor.fetchall()\n",
        "\n",
        "for prijmeni, datum_narozeni, nazev, mesto in myresult:\n",
        "    print(f\"Hráč {prijmeni}, s datem narození {datum_narozeni} z týmu {nazev} v městě {mesto}\")\n",
        "\n",
        "mycursor.close()\n",
        "mydb.close()"
      ],
      "execution_count": 4,
      "outputs": [
        {
          "output_type": "stream",
          "name": "stdout",
          "text": [
            "Hráč Prvni, s datem narození 1996-06-02 z týmu HC Slavie v městě Praha\n",
            "Hráč Druhy, s datem narození 2000-09-09 z týmu HC Rytíři v městě Kladno\n",
            "Hráč Treti, s datem narození 1998-01-05 z týmu HC Sparta v městě Praha\n",
            "Hráč Pátý, s datem narození 1999-03-08 z týmu HC Slavie v městě Praha\n",
            "Hráč None, s datem narození None z týmu HC Sparta v městě Brno\n"
          ]
        }
      ]
    },
    {
      "cell_type": "markdown",
      "metadata": {
        "id": "Q7b_Il7K40bC"
      },
      "source": [
        "## RIGHT JOIN\n",
        "Jediný rozdíl od INNER JOINu je v tom jak SŘBD pracuje s chybějícími položkami.\n",
        "RIGHT JOIN vezme všechny záznamy z tabulky napravo a pokud k nim chybí zápis nalevo, tak doplní NULL.\n",
        "\n",
        "Kód pro použití LEFT JOINu může vypadat takto:"
      ]
    },
    {
      "cell_type": "code",
      "metadata": {
        "id": "Z2EcObXv40bF",
        "outputId": "2d77f462-5992-4068-9595-03f905ed18c6",
        "colab": {
          "base_uri": "https://localhost:8080/"
        }
      },
      "source": [
        "import mysql.connector\n",
        "\n",
        "mydb = mysql.connector.connect(\n",
        "    host = \"dbs.spskladno.cz\"\n",
        "    ,user = \"student11\"\n",
        "    ,password = \"spsnet\"\n",
        "    ,database = \"vyuka11\"\n",
        ")\n",
        "mycursor = mydb.cursor()\n",
        "\n",
        "# RIGHT JOIN výsledek uzná, i pokud existuje pouze pravá část vazby (zde Hrac)\n",
        "# a levá (ta připojovaná, zde Tym) neexistuje. Do hodnot sloupců z připojované části se vloží NULL.\n",
        "# Levá a pravá část vazby se rozlišuje podle toho kde se název tabulky nachází vzheledem k JOINu.\n",
        "mycursor.execute(\"\"\"SELECT prijmeni, datum_narozeni, nazev, mesto FROM\n",
        "    Tym RIGHT JOIN Hrac ON Tym.id=Hrac.tym_id;\n",
        "\"\"\")\n",
        "\n",
        "myresult = mycursor.fetchall()\n",
        "\n",
        "for prijmeni, datum_narozeni, nazev, mesto in myresult:\n",
        "    print(f\"Hráč {prijmeni}, s datem narození {datum_narozeni} z týmu {nazev} v městě {mesto}\")\n",
        "\n",
        "mycursor.close()\n",
        "mydb.close()"
      ],
      "execution_count": 5,
      "outputs": [
        {
          "output_type": "stream",
          "name": "stdout",
          "text": [
            "Hráč Prvni, s datem narození 1996-06-02 z týmu HC Slavie v městě Praha\n",
            "Hráč Druhy, s datem narození 2000-09-09 z týmu HC Rytíři v městě Kladno\n",
            "Hráč Treti, s datem narození 1998-01-05 z týmu HC Sparta v městě Praha\n",
            "Hráč Čtvrtý, s datem narození 1997-01-06 z týmu None v městě None\n",
            "Hráč Pátý, s datem narození 1999-03-08 z týmu HC Slavie v městě Praha\n"
          ]
        }
      ]
    },
    {
      "cell_type": "markdown",
      "metadata": {
        "id": "SmvKaZ4V40bK"
      },
      "source": [
        "## FULL OUTER JOIN\n",
        "FULL OUTER JOIN vypíše všechny záznamy z levé tabulky i všechny záznamy z pravé tabulky - ty které k sobě pasují samozřejmě spojí.\n",
        "V podstatě se jedná o kombinaci LEFT JOINu a RIGHT JOINu.\n",
        "Tento JOIN obvykle vrací velké množství záznamů, které obsahují všechny hodnoty z obou tabulek.\n",
        "\n",
        "__pozn.:__ MySQL nepodporuje syntaxy pro FULL OUTER JOIN, takže ho musíme trochu obejít.<br>\n",
        "To se udělá tak, že vytvoříme LEFT JOIN a RIGHT JOIN a použijeme příkaz UNION.<br>\n",
        "Příkaz UNION \"slepí\" tyto 2 výsledky (z obou JOINů dohromady (pod sebe)). Tím se tedy vytvoří logika FULL OUTER JOINu.\n",
        "\n",
        "Kód pro použití FULL OUTER JOINu může vypadat takto:"
      ]
    },
    {
      "cell_type": "code",
      "metadata": {
        "id": "icPoMI-840bN"
      },
      "source": [
        "import mysql.connector\n",
        "\n",
        "mydb = mysql.connector.connect(\n",
        "    host = \"dbs.spskladno.cz\"\n",
        "    ,user = \"rekne_ucitel\"\n",
        "    ,password = \"rekne_ucitel\"\n",
        "    ,database = \"zavisi_na_useru\"\n",
        ")\n",
        "mycursor = mydb.cursor()\n",
        "\n",
        "mycursor.execute(\"\"\"SELECT prijmeni, datum_narozeni, nazev, mesto\n",
        "    FROM Hrac LEFT JOIN Tym ON Hrac.tym_id = Tym.id\n",
        "    UNION\n",
        "    SELECT prijmeni, datum_narozeni, nazev, mesto\n",
        "    FROM Hrac RIGHT JOIN Tym ON Hrac.tym_id = Tym.id;\n",
        "\"\"\")\n",
        "\n",
        "myresult = mycursor.fetchall()\n",
        "\n",
        "for prijmeni, datum_narozeni, nazev, mesto in myresult:\n",
        "    print(f\"Hráč {prijmeni}, s datem narození {datum_narozeni} z týmu {nazev} v městě {mesto}\")\n",
        "\n",
        "mycursor.close()\n",
        "mydb.close()"
      ],
      "execution_count": null,
      "outputs": []
    },
    {
      "cell_type": "markdown",
      "metadata": {
        "id": "lPUH7GaO40bS"
      },
      "source": [
        "## JOIN tří tabulek\n",
        "JOIN tří tabulek je v podstatě stejný jako JOIN dvou tabulek, jenom se do příkazu přidá další JOIN.\n",
        "Spojování více tabulek se hodí pokud máme několik tabulek, které na sebe odkazují pouze přes např. id a chceme informace z těchto tabulek spojit.\n",
        "\n",
        "Kód pro spojení tří tabulek může vypadat takto:"
      ]
    },
    {
      "cell_type": "code",
      "metadata": {
        "id": "ABExxKel40bU",
        "outputId": "1f28bdec-d04b-41b6-d29d-b749c690436f",
        "colab": {
          "base_uri": "https://localhost:8080/"
        }
      },
      "source": [
        "import mysql.connector\n",
        "\n",
        "mydb = mysql.connector.connect(\n",
        "    host = \"dbs.spskladno.cz\"\n",
        "    ,user = \"student11\"\n",
        "    ,password = \"spsnet\"\n",
        "    ,database = \"vyuka11\"\n",
        ")\n",
        "mycursor = mydb.cursor()\n",
        "\n",
        "mycursor.execute(\"\"\"SELECT nazev, mesto, prijmeni, pojmenovani\n",
        "    FROM Tym JOIN Hrac ON Tym.id = Hrac.tym_id JOIN Pozice ON Hrac.pozice_id = Pozice.id_poz;\n",
        "\"\"\")\n",
        "\n",
        "myresult = mycursor.fetchall()\n",
        "\n",
        "for nazev, mesto, prijmeni, pojmenovani in myresult:\n",
        "    print(f\"Hráč {prijmeni} z týmu {nazev} v městě {mesto} má pozici {pojmenovani}\")\n",
        "\n",
        "mycursor.close()\n",
        "mydb.close()"
      ],
      "execution_count": 8,
      "outputs": [
        {
          "output_type": "stream",
          "name": "stdout",
          "text": [
            "Hráč Treti z týmu HC Sparta v městě Praha má pozici Utocnik\n",
            "Hráč Prvni z týmu HC Slavie v městě Praha má pozici Obrana\n",
            "Hráč Druhy z týmu HC Rytíři v městě Kladno má pozici Brankar\n"
          ]
        }
      ]
    },
    {
      "cell_type": "markdown",
      "metadata": {
        "id": "Fct_hBLn40bW"
      },
      "source": [
        "# Cvičení\n",
        "Bude následovat několik úkolů na procvičení\n",
        "\n",
        "## Cvičení 1:\n",
        "Přihlašte se do školní databáze a vypište záznamy kde Hrac.pozice_id=Pozice.id_poz.\n",
        "Vypište pouze záznamy, které nebudou obsahovat NULL.\n",
        "\n",
        "Vypište atributy jmeno, prijmeni, pojmenovani."
      ]
    },
    {
      "cell_type": "code",
      "metadata": {
        "id": "r74PhEvi40bY",
        "outputId": "57e32165-9d22-483d-c381-5ce68e625faa",
        "colab": {
          "base_uri": "https://localhost:8080/"
        }
      },
      "source": [
        "import mysql.connector\n",
        "\n",
        "mydb = mysql.connector.connect(\n",
        "    host = \"dbs.spskladno.cz\"\n",
        "    ,user = \"student11\"\n",
        "    ,password = \"spsnet\"\n",
        "    ,database = \"vyuka11\"\n",
        ")\n",
        "mycursor = mydb.cursor()\n",
        "\n",
        "# TODO: Zde přijde váš kód ->\n",
        "mycursor.execute(\"\"\"SELECT jmeno, prijmeni, pojmenovani FROM\n",
        "    Hrac JOIN Pozice ON Hrac.pozice_id=Pozice.id_poz;\n",
        "\"\"\")\n",
        "\n",
        "myresult = mycursor.fetchall()\n",
        "\n",
        "for jmeno, prijmeni, pojmenovani in myresult:\n",
        "    print(f\"Hráč {jmeno} {prijmeni}, z pozicí {pojmenovani}\")\n",
        "\n",
        "\n",
        "mycursor.close()\n",
        "mydb.close()"
      ],
      "execution_count": 11,
      "outputs": [
        {
          "output_type": "stream",
          "name": "stdout",
          "text": [
            "Hráč Adam Prvni, z pozicí Obrana\n",
            "Hráč Pavel Druhy, z pozicí Brankar\n",
            "Hráč Kuba Treti, z pozicí Utocnik\n",
            "Hráč Josef Čtvrtý, z pozicí Obrana\n"
          ]
        }
      ]
    },
    {
      "cell_type": "markdown",
      "metadata": {
        "id": "1aBdLG7S40ba"
      },
      "source": [
        "### Referenční řešení pro kontrolu:\n",
        "<pre>\n",
        "Hráč Kuba Treti má pozici Utocnik\n",
        "Hráč Adam Prvni má pozici Obrana\n",
        "Hráč Josef Čtvrtý má pozici Obrana\n",
        "Hráč Pavel Druhy má pozici Brankar\n",
        "</pre>"
      ]
    },
    {
      "cell_type": "markdown",
      "metadata": {
        "id": "UEk4bBxQ40bb"
      },
      "source": [
        "## Cvičení 2:\n",
        "Přihlašte se do školní databáze a vypište všechny hráče. U těch, kteří mají přidělenou pozici vypište i tuto pozici.\n",
        "\n",
        "Vypište atributy jmeno, prijmeni, pozice."
      ]
    },
    {
      "cell_type": "code",
      "metadata": {
        "id": "sbZs74hw40be",
        "outputId": "3b162723-63d5-4682-c8e7-8a49523e59ae",
        "colab": {
          "base_uri": "https://localhost:8080/"
        }
      },
      "source": [
        "import mysql.connector\n",
        "\n",
        "mydb = mysql.connector.connect(\n",
        "    host = \"dbs.spskladno.cz\"\n",
        "    ,user = \"student11\"\n",
        "    ,password = \"spsnet\"\n",
        "    ,database = \"vyuka11\"\n",
        ")\n",
        "mycursor = mydb.cursor()\n",
        "\n",
        "# TODO: Zde přijde váš kód ->\n",
        "mycursor.execute(\"\"\"SELECT jmeno, prijmeni, pojmenovani FROM\n",
        "    Hrac LEFT JOIN Pozice ON Hrac.pozice_id=Pozice.id_poz;\n",
        "\"\"\")\n",
        "\n",
        "myresult = mycursor.fetchall()\n",
        "\n",
        "for jmeno, prijmeni, pojmenovani in myresult:\n",
        "    print(f\"Hráč {jmeno} {prijmeni}, z pozicí {pojmenovani}\")\n",
        "\n",
        "\n",
        "mycursor.close()\n",
        "mydb.close()"
      ],
      "execution_count": 12,
      "outputs": [
        {
          "output_type": "stream",
          "name": "stdout",
          "text": [
            "Hráč Adam Prvni, z pozicí Obrana\n",
            "Hráč Pavel Druhy, z pozicí Brankar\n",
            "Hráč Kuba Treti, z pozicí Utocnik\n",
            "Hráč Josef Čtvrtý, z pozicí Obrana\n",
            "Hráč Jirka Pátý, z pozicí None\n"
          ]
        }
      ]
    },
    {
      "cell_type": "markdown",
      "metadata": {
        "id": "qXVTSANA40bg"
      },
      "source": [
        "### Referenční řešení pro kontrolu:\n",
        "<pre>\n",
        "Hráč Adam Prvni má pozici Obrana\n",
        "Hráč Pavel Druhy má pozici Brankar\n",
        "Hráč Kuba Treti má pozici Utocnik\n",
        "Hráč Josef Čtvrtý má pozici Obrana\n",
        "Hráč Jirka Pátý má pozici None\n",
        "</pre>"
      ]
    },
    {
      "cell_type": "markdown",
      "metadata": {
        "id": "5Z_vw3pL40bh"
      },
      "source": [
        "## Cvičení 3:\n",
        "Přihlašte se do školní databáze a vypište všechny Pozice. Poizce které jsou obsazené hráčem u sebe budou mít napsaneho hráče, který má danou poizici.\n",
        "\n",
        "Vypište atributy jmeno, prijmeni, pozice."
      ]
    },
    {
      "cell_type": "code",
      "metadata": {
        "id": "LY-7Rdn840bj",
        "outputId": "e48d51e7-6fdc-4e85-c765-1496deb8fc1e",
        "colab": {
          "base_uri": "https://localhost:8080/"
        }
      },
      "source": [
        "import mysql.connector\n",
        "\n",
        "mydb = mysql.connector.connect(\n",
        "    host = \"dbs.spskladno.cz\"\n",
        "    ,user = \"student11\"\n",
        "    ,password = \"spsnet\"\n",
        "    ,database = \"vyuka11\"\n",
        ")\n",
        "mycursor = mydb.cursor()\n",
        "\n",
        "# TODO: Zde přijde váš kód ->\n",
        "mycursor.execute(\"\"\"SELECT jmeno, prijmeni, pojmenovani FROM\n",
        "    Hrac RIGHT JOIN Pozice ON Hrac.pozice_id=Pozice.id_poz;\n",
        "\"\"\")\n",
        "\n",
        "myresult = mycursor.fetchall()\n",
        "\n",
        "for jmeno, prijmeni, pojmenovani in myresult:\n",
        "    print(f\"Hráč {jmeno} {prijmeni}, z pozicí {pojmenovani}\")\n",
        "\n",
        "mycursor.close()\n",
        "mydb.close()"
      ],
      "execution_count": 13,
      "outputs": [
        {
          "output_type": "stream",
          "name": "stdout",
          "text": [
            "Hráč Adam Prvni, z pozicí Obrana\n",
            "Hráč Pavel Druhy, z pozicí Brankar\n",
            "Hráč Kuba Treti, z pozicí Utocnik\n",
            "Hráč Josef Čtvrtý, z pozicí Obrana\n",
            "Hráč None None, z pozicí Zaloha\n"
          ]
        }
      ]
    },
    {
      "cell_type": "markdown",
      "metadata": {
        "id": "YUJ1jbPV40bm"
      },
      "source": [
        "### Referenční řešení pro kontrolu:\n",
        "<pre>\n",
        "Hráč Adam Prvni má pozici Obrana\n",
        "Hráč Pavel Druhy má pozici Brankar\n",
        "Hráč Kuba Treti má pozici Utocnik\n",
        "Hráč Josef Čtvrtý má pozici Obrana\n",
        "Hráč None None má pozici Zaloha\n",
        "</pre>"
      ]
    },
    {
      "cell_type": "markdown",
      "metadata": {
        "id": "w4Yt7own40bn"
      },
      "source": [
        "## Cvičení 4:\n",
        "Přihlašte se do školní databáze a vypište všechny hráče a všechny pozice. Pokud má hráč přiřazenou pozici (nebo pozice hráče) bude ve výsledku tento vztah poznat.\n",
        "\n",
        "Vypište všechny atributy."
      ]
    },
    {
      "cell_type": "code",
      "metadata": {
        "id": "H1YCy5z-40bq",
        "outputId": "77d3d49b-1855-47c8-d181-515c54e471eb",
        "colab": {
          "base_uri": "https://localhost:8080/"
        }
      },
      "source": [
        "import mysql.connector\n",
        "\n",
        "mydb = mysql.connector.connect(\n",
        "    host = \"dbs.spskladno.cz\"\n",
        "    ,user = \"student11\"\n",
        "    ,password = \"spsnet\"\n",
        "    ,database = \"vyuka11\"\n",
        ")\n",
        "mycursor = mydb.cursor()\n",
        "\n",
        "# TODO: Zde přijde váš kód ->\n",
        "mycursor.execute(\"\"\"SELECT *\n",
        "      FROM Hrac LEFT JOIN Pozice ON Hrac.pozice_id=Pozice.id_poz\n",
        "      UNION\n",
        "      SELECT *\n",
        "      FROM Hrac RIGHT JOIN Pozice ON Hrac.pozice_id=Pozice.id_poz;\n",
        "\"\"\")\n",
        "\n",
        "myresult = mycursor.fetchall()\n",
        "\n",
        "for id, jmeno, prijmeni, datum_narozeni, tym_id, pozice_id, id_poz, pojmenovani in myresult:\n",
        "    print(f\"Hráč s id {id} {jmeno} {prijmeni}, datum narození {datum_narozeni}, hraje v týmu s id {tym_id} na pozici {pozice_id} s pozicí {id_poz} {pojmenovani}\")\n",
        "\n",
        "\n",
        "mycursor.close()\n",
        "mydb.close()"
      ],
      "execution_count": 19,
      "outputs": [
        {
          "output_type": "stream",
          "name": "stdout",
          "text": [
            "Hráč s id 1 Adam Prvni, datum narození 1996-06-02, hraje v týmu s id 2 na pozici 2 s pozicí 2 Obrana\n",
            "Hráč s id 2 Pavel Druhy, datum narození 2000-09-09, hraje v týmu s id 1 na pozici 3 s pozicí 3 Brankar\n",
            "Hráč s id 3 Kuba Treti, datum narození 1998-01-05, hraje v týmu s id 3 na pozici 1 s pozicí 1 Utocnik\n",
            "Hráč s id 4 Josef Čtvrtý, datum narození 1997-01-06, hraje v týmu s id 6 na pozici 2 s pozicí 2 Obrana\n",
            "Hráč s id 5 Jirka Pátý, datum narození 1999-03-08, hraje v týmu s id 2 na pozici 6 s pozicí None None\n",
            "Hráč s id None None None, datum narození None, hraje v týmu s id None na pozici None s pozicí 4 Zaloha\n"
          ]
        }
      ]
    },
    {
      "cell_type": "markdown",
      "metadata": {
        "id": "-4Wmxr1e40bs"
      },
      "source": [
        "### Referenční řešení pro kontrolu:\n",
        "<pre>\n",
        "Hráč s id 1 Adam Prvni nar. 1996-06-02 hraje v týmu s id 2 na poici s id 2 - 2 Obrana\n",
        "Hráč s id 2 Pavel Druhy nar. 2000-09-09 hraje v týmu s id 1 na poici s id 3 - 3 Brankar\n",
        "Hráč s id 3 Kuba Treti nar. 1998-01-05 hraje v týmu s id 3 na poici s id 1 - 1 Utocnik\n",
        "Hráč s id 4 Josef Čtvrtý nar. 1997-01-06 hraje v týmu s id 6 na poici s id 2 - 2 Obrana\n",
        "Hráč s id 5 Jirka Pátý nar. 1999-03-08 hraje v týmu s id 2 na poici s id 6 - None None\n",
        "Hráč s id None None None nar. None hraje v týmu s id None na poici s id None - 4 Zaloha\n",
        "</pre>\n"
      ]
    }
  ]
}