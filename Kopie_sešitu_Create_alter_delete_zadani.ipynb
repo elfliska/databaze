{
  "nbformat": 4,
  "nbformat_minor": 0,
  "metadata": {
    "interpreter": {
      "hash": "844666d065970604720619e9beaf7cae1bffaee307c095d8082add94b805615d"
    },
    "kernelspec": {
      "display_name": "Python 3.9.6 64-bit (system)",
      "name": "python3"
    },
    "language_info": {
      "codemirror_mode": {
        "name": "ipython",
        "version": 3
      },
      "file_extension": ".py",
      "mimetype": "text/x-python",
      "name": "python",
      "nbconvert_exporter": "python",
      "pygments_lexer": "ipython3",
      "version": "3.9.6"
    },
    "orig_nbformat": 4,
    "colab": {
      "provenance": [],
      "include_colab_link": true
    }
  },
  "cells": [
    {
      "cell_type": "markdown",
      "metadata": {
        "id": "view-in-github",
        "colab_type": "text"
      },
      "source": [
        "<a href=\"https://colab.research.google.com/github/elfliska/databaze/blob/main/Kopie_se%C5%A1itu_Create_alter_delete_zadani.ipynb\" target=\"_parent\"><img src=\"https://colab.research.google.com/assets/colab-badge.svg\" alt=\"Open In Colab\"/></a>"
      ]
    },
    {
      "cell_type": "markdown",
      "metadata": {
        "id": "lTYs8Vz6f7rK"
      },
      "source": [
        "# SQL databáze - vytvoření- úprava a mazání tabulky\n",
        "\n",
        "SQL databáze se používají k uložení a následnému zpracování dat.\n",
        "Samotné databáze si můžeme představit jako klasické excelovské tabulky.\n",
        "Kromě samotných informací se v databázích také nachází SŘBD (Systém Řízení Báze Dat), který umí s uloženými informacemi pracovat - např. ukládat, vyhledávat, provádět výpočty.\n",
        "\n",
        "## Syntaxe\n",
        "Jazyk SQL je dotazovací jazyk, pomocí kterého si můžeme \"povídat\" s databází.\n",
        "V dotazech nezapisujeme, jak se má požadovaný výsledek získat, ale pouze zapíšreme co chceme za výsledek. Tyto příkazy budeme provádět pomocí knihovny, která se jmenuje my-sql-connector\n",
        "\n",
        "__pozn.:__ Knihovna mysql-connector nebere jako validní datový typ text. Musí se zadat char(max. počet znaků), např.: jmeno char(10). V podkladech je však uveden datový typ text pro přehlednost. Tato poznámka platí pro všechny následující podklady.\n",
        "\n",
        "## Instalace balíčku"
      ]
    },
    {
      "cell_type": "code",
      "metadata": {
        "id": "1NbVIogAf7rh",
        "outputId": "fb4d917f-2f59-4e7d-9e90-b2df68d92b05",
        "colab": {
          "base_uri": "https://localhost:8080/"
        }
      },
      "source": [
        "!pip install mysql-connector"
      ],
      "execution_count": null,
      "outputs": [
        {
          "output_type": "stream",
          "name": "stdout",
          "text": [
            "Requirement already satisfied: mysql-connector in /usr/local/lib/python3.12/dist-packages (2.2.9)\n"
          ]
        }
      ]
    },
    {
      "cell_type": "markdown",
      "metadata": {
        "id": "Nv1Wz0vTf7rq"
      },
      "source": [
        "# Připojení k databázi\n",
        "Předtím než si budeme s databázemi povídat, tak se k nim musíme připojit.\n",
        "To se provede následující částí kódu"
      ]
    },
    {
      "cell_type": "code",
      "metadata": {
        "id": "rvOZMM5Mf7ry"
      },
      "source": [
        "import mysql.connector\n",
        "\n",
        "# tento příkaz nás připojí do databáze\n",
        "mydb = mysql.connector.connect(\n",
        "    host = \"dbs.spskladno.cz\"\n",
        "    ,user = \"student11\"\n",
        "    ,password = \"spsnet\"\n",
        "    ,database = \"vyuka11\"\n",
        ")\n",
        "\n",
        "mycursor = mydb.cursor() # proměnnou mycursor si můžeme představit jako myš a klávesnici, kterými zadáváme hodnoty do databáze a potvrzujeme příkazy\n",
        "\n",
        "# tyto poslední 2 příkazy nás odpojí od databáze\n",
        "mycursor.close()\n",
        "mydb.close()"
      ],
      "execution_count": null,
      "outputs": []
    },
    {
      "cell_type": "markdown",
      "metadata": {
        "id": "V0jRZhK-f7r2"
      },
      "source": [
        "# CREATE TABLE - vytvoření tabulky\n",
        "Tabulkka se v databázi vytvoří pomocí klíčových slov CREATE TABLE\n",
        "\n",
        "## Syntaxe"
      ]
    },
    {
      "cell_type": "code",
      "metadata": {
        "id": "SM0jSuf-f7r4"
      },
      "source": [
        "mydb = mysql.connector.connect(\n",
        "    host = \"dbs.spskladno.cz\"\n",
        "    ,user = \"student11\"\n",
        "    ,password = \"spsnet\"\n",
        "    ,database = \"vyuka11\"\n",
        ")\n",
        "mycursor = mydb.cursor()\n",
        "\n",
        "# do \"\"\"\"\"\" se zadává samotný SQL požadavek\n",
        "# příkaz execute si můžeme představit jako napsání SQL požadavku do phpMyAdmin\n",
        "# SQL dotaz je v trojitých uvozovkách proto, abychom ho mohli napsat na více řádků (přehledně) - můžeme ho dát i do jednoduchých uvozovek, ale potom musí být na jednom řádku.\n",
        "mycursor.execute(\"\"\"CREATE TABLE Automonil4(\n",
        "    id int,\n",
        "    spz char(7),\n",
        "    pocet_sedadel int,\n",
        "    max_rychlost int,\n",
        "    nosnost int,\n",
        "    nutna_kvalifikace text,\n",
        "    datum_vyroby date\n",
        ")\"\"\")\n",
        "\n",
        "mydb.commit() # tento příkaz si můžeme představit jako stisknutí Enteru\n",
        "\n",
        "mycursor.close()\n",
        "mydb.close()"
      ],
      "execution_count": null,
      "outputs": []
    },
    {
      "cell_type": "markdown",
      "metadata": {
        "id": "HahXgPQ5f7r8"
      },
      "source": [
        "Při vytváření musíme zadat:\n",
        "- Název tabulky\n",
        "- Názvy sloupečků (atributy)\n",
        "- Datový typ jednotlivých sloupečků (int, text, date, atd...)"
      ]
    },
    {
      "cell_type": "markdown",
      "metadata": {
        "id": "ZA4pgc1ef7sS"
      },
      "source": [
        "# DROP TABLE - smazání tabulky\n",
        "Slouží k mazání tabulek.\n",
        "Aby smazání proběhlo úspěšně nesmí být na tabulce závislá jíná tabulka a tabulka kterou chceme smazat musí existovat."
      ]
    },
    {
      "cell_type": "code",
      "metadata": {
        "id": "MW8bhbUQf7sU"
      },
      "source": [
        "mydb = mysql.connector.connect(\n",
        "    host = \"dbs.spskladno.cz\"\n",
        "    ,user = \"student11\"\n",
        "    ,password = \"spsnet\"\n",
        "    ,database = \"vyuka11\"\n",
        ")\n",
        "mycursor = mydb.cursor()\n",
        "\n",
        "mycursor.execute(\"\"\"DROP TABLE Automobil4;\"\"\")\n",
        "\n",
        "mydb.commit()\n",
        "\n",
        "mycursor.close()\n",
        "mydb.close()"
      ],
      "execution_count": null,
      "outputs": []
    },
    {
      "cell_type": "markdown",
      "metadata": {
        "id": "TkUugR3wlQ4o"
      },
      "source": [
        "Dále můžeme ke sloupečkům přidat:\n",
        "- Vlastní klíč (Primary Key)\n",
        "- Cizí klíč (Foreign Key)\n",
        "- NOT NULL - hodnota nesmí být prázdná\n",
        "- UNIQUE - hodnota se nesmí v tabulce (v tomto sloupečku) opakovat\n",
        "- AUTOINCREMENT - SŘBD sám přiřadí hodnotu - o jedná vyšší než je doposud nejvyšší\n",
        "- DEFAULT - pokud není hodnota vypněna, uloží se tato nastavená\n",
        "Podrobnější vysvětlení každého z atributu naleznete v samostatném JupyterNotebooku [Vlastnosti_atributu](https://github.com/JaroslavHolecek/Teaching/tree/master/JupyterNotebook/SQL)\n",
        "\n",
        "Příkaz pro vytvoření tabulky s výše uvedenými specifikacemi může vypadat následovně"
      ]
    },
    {
      "cell_type": "code",
      "metadata": {
        "id": "IJEjcWovf7r_"
      },
      "source": [
        "mydb = mysql.connector.connect(\n",
        "    host = \"dbs.spskladno.cz\"\n",
        "    ,user = \"student11\"\n",
        "    ,password = \"spsnet\"\n",
        "    ,database = \"vyuka11\"\n",
        ")\n",
        "mycursor = mydb.cursor()\n",
        "\n",
        "# mycursor.execute(\"\"\"DROP TABLE Automobil \"\"\")\n",
        "mycursor.execute(\"\"\"CREATE TABLE Automobil3(\n",
        "    id int PRIMARY KEY AUTO_INCREMENT,  /* Vlastní klíč - může být jen jeden v tabulce */\n",
        "    spz char(7) NOT NULL UNIQUE,        /* UNIQUE - v tabulce se nemůže opakovat spz, NOT NULL - spz musí být vyplněna*/\n",
        "    pocet_sedadel int NOT NULL,         /* NOT NULL - počet sedadel musí být vyplněn */\n",
        "    max_rychlost int,\n",
        "    nosnost int,\n",
        "    nutna_kvalifikace text NOT NULL DEFAULT \"B\",  /* DEFAULT - pokud nezadáme hodnotu doplní se \"B\", NOT NULL - nutná klasifikace musí být vyplněna - tedy nemůžeme manuálně vložit NULL*/\n",
        "    datum_vyroby date\n",
        ");\"\"\")\n",
        "\n",
        "mydb.commit()\n",
        "\n",
        "mycursor.close()\n",
        "mydb.close()"
      ],
      "execution_count": null,
      "outputs": []
    },
    {
      "cell_type": "markdown",
      "metadata": {
        "id": "NJBgQBeTf7sK"
      },
      "source": [
        "# ALTER TABLE - úprava tabulky\n",
        "Slouží k úpravě tabulky poté, co jsme ji již vytvořili.\n",
        "Můžeme přidávat a mazat sloupečky, měnit datové typy, přidávat cizí klíče, atd..."
      ]
    },
    {
      "cell_type": "code",
      "metadata": {
        "id": "oOW30an4f7sO",
        "outputId": "f9666840-fb36-454b-c1f4-ae32ea714837",
        "colab": {
          "base_uri": "https://localhost:8080/",
          "height": 356
        }
      },
      "source": [
        "mydb = mysql.connector.connect(\n",
        "    host = \"dbs.spskladno.cz\"\n",
        "    ,user = \"student11\"\n",
        "    ,password = \"spsnet\"\n",
        "    ,database = \"vyuka11\"\n",
        ")\n",
        "mycursor = mydb.cursor()\n",
        "\n",
        "mycursor.execute(\"\"\"DROP TABLE Automobil3 \"\"\")\n",
        "mycursor.execute(\"\"\"CREATE TABLE Automobil4(\n",
        "    id int PRIMARY KEY AUTO_INCREMENT,\n",
        "    spz char(7) NOT NULL UNIQUE,\n",
        "    pocet_sedadel int NOT NULL,\n",
        "    max_rychlost int,\n",
        "    nosnost int,\n",
        "    nutna_kvalifikace text NOT NULL DEFAULT \"B\"\n",
        ")\"\"\")\n",
        "\n",
        "mydb.commit()\n",
        "\n",
        "mycursor.execute(\"\"\"ALTER TABLE Automobil ADD datum_vyroby date;\"\"\")\n",
        "\n",
        "mydb.commit()\n",
        "\n",
        "mycursor.close()\n",
        "mydb.close()"
      ],
      "execution_count": null,
      "outputs": [
        {
          "output_type": "error",
          "ename": "ProgrammingError",
          "evalue": "1050 (42S01): Table 'Automobil4' already exists",
          "traceback": [
            "\u001b[0;31m---------------------------------------------------------------------------\u001b[0m",
            "\u001b[0;31mProgrammingError\u001b[0m                          Traceback (most recent call last)",
            "\u001b[0;32m/tmp/ipython-input-2989966944.py\u001b[0m in \u001b[0;36m<cell line: 0>\u001b[0;34m()\u001b[0m\n\u001b[1;32m      8\u001b[0m \u001b[0;34m\u001b[0m\u001b[0m\n\u001b[1;32m      9\u001b[0m \u001b[0mmycursor\u001b[0m\u001b[0;34m.\u001b[0m\u001b[0mexecute\u001b[0m\u001b[0;34m(\u001b[0m\u001b[0;34m\"\"\"DROP TABLE Automobil3 \"\"\"\u001b[0m\u001b[0;34m)\u001b[0m\u001b[0;34m\u001b[0m\u001b[0;34m\u001b[0m\u001b[0m\n\u001b[0;32m---> 10\u001b[0;31m mycursor.execute(\"\"\"CREATE TABLE Automobil4(\n\u001b[0m\u001b[1;32m     11\u001b[0m     \u001b[0mid\u001b[0m \u001b[0mint\u001b[0m \u001b[0mPRIMARY\u001b[0m \u001b[0mKEY\u001b[0m \u001b[0mAUTO_INCREMENT\u001b[0m\u001b[0;34m,\u001b[0m\u001b[0;34m\u001b[0m\u001b[0;34m\u001b[0m\u001b[0m\n\u001b[1;32m     12\u001b[0m     \u001b[0mspz\u001b[0m \u001b[0mchar\u001b[0m\u001b[0;34m(\u001b[0m\u001b[0;36m7\u001b[0m\u001b[0;34m)\u001b[0m \u001b[0mNOT\u001b[0m \u001b[0mNULL\u001b[0m \u001b[0mUNIQUE\u001b[0m\u001b[0;34m,\u001b[0m\u001b[0;34m\u001b[0m\u001b[0;34m\u001b[0m\u001b[0m\n",
            "\u001b[0;32m/usr/local/lib/python3.12/dist-packages/mysql/connector/cursor.py\u001b[0m in \u001b[0;36mexecute\u001b[0;34m(self, operation, params, multi)\u001b[0m\n\u001b[1;32m    549\u001b[0m         \u001b[0;32melse\u001b[0m\u001b[0;34m:\u001b[0m\u001b[0;34m\u001b[0m\u001b[0;34m\u001b[0m\u001b[0m\n\u001b[1;32m    550\u001b[0m             \u001b[0;32mtry\u001b[0m\u001b[0;34m:\u001b[0m\u001b[0;34m\u001b[0m\u001b[0;34m\u001b[0m\u001b[0m\n\u001b[0;32m--> 551\u001b[0;31m                 \u001b[0mself\u001b[0m\u001b[0;34m.\u001b[0m\u001b[0m_handle_result\u001b[0m\u001b[0;34m(\u001b[0m\u001b[0mself\u001b[0m\u001b[0;34m.\u001b[0m\u001b[0m_connection\u001b[0m\u001b[0;34m.\u001b[0m\u001b[0mcmd_query\u001b[0m\u001b[0;34m(\u001b[0m\u001b[0mstmt\u001b[0m\u001b[0;34m)\u001b[0m\u001b[0;34m)\u001b[0m\u001b[0;34m\u001b[0m\u001b[0;34m\u001b[0m\u001b[0m\n\u001b[0m\u001b[1;32m    552\u001b[0m             \u001b[0;32mexcept\u001b[0m \u001b[0merrors\u001b[0m\u001b[0;34m.\u001b[0m\u001b[0mInterfaceError\u001b[0m\u001b[0;34m:\u001b[0m\u001b[0;34m\u001b[0m\u001b[0;34m\u001b[0m\u001b[0m\n\u001b[1;32m    553\u001b[0m                 \u001b[0;32mif\u001b[0m \u001b[0mself\u001b[0m\u001b[0;34m.\u001b[0m\u001b[0m_connection\u001b[0m\u001b[0;34m.\u001b[0m\u001b[0m_have_next_result\u001b[0m\u001b[0;34m:\u001b[0m  \u001b[0;31m# pylint: disable=W0212\u001b[0m\u001b[0;34m\u001b[0m\u001b[0;34m\u001b[0m\u001b[0m\n",
            "\u001b[0;32m/usr/local/lib/python3.12/dist-packages/mysql/connector/connection.py\u001b[0m in \u001b[0;36mcmd_query\u001b[0;34m(self, query, raw, buffered, raw_as_string)\u001b[0m\n\u001b[1;32m    488\u001b[0m         \u001b[0;32mif\u001b[0m \u001b[0;32mnot\u001b[0m \u001b[0misinstance\u001b[0m\u001b[0;34m(\u001b[0m\u001b[0mquery\u001b[0m\u001b[0;34m,\u001b[0m \u001b[0mbytes\u001b[0m\u001b[0;34m)\u001b[0m\u001b[0;34m:\u001b[0m\u001b[0;34m\u001b[0m\u001b[0;34m\u001b[0m\u001b[0m\n\u001b[1;32m    489\u001b[0m             \u001b[0mquery\u001b[0m \u001b[0;34m=\u001b[0m \u001b[0mquery\u001b[0m\u001b[0;34m.\u001b[0m\u001b[0mencode\u001b[0m\u001b[0;34m(\u001b[0m\u001b[0;34m'utf-8'\u001b[0m\u001b[0;34m)\u001b[0m\u001b[0;34m\u001b[0m\u001b[0;34m\u001b[0m\u001b[0m\n\u001b[0;32m--> 490\u001b[0;31m         \u001b[0mresult\u001b[0m \u001b[0;34m=\u001b[0m \u001b[0mself\u001b[0m\u001b[0;34m.\u001b[0m\u001b[0m_handle_result\u001b[0m\u001b[0;34m(\u001b[0m\u001b[0mself\u001b[0m\u001b[0;34m.\u001b[0m\u001b[0m_send_cmd\u001b[0m\u001b[0;34m(\u001b[0m\u001b[0mServerCmd\u001b[0m\u001b[0;34m.\u001b[0m\u001b[0mQUERY\u001b[0m\u001b[0;34m,\u001b[0m \u001b[0mquery\u001b[0m\u001b[0;34m)\u001b[0m\u001b[0;34m)\u001b[0m\u001b[0;34m\u001b[0m\u001b[0;34m\u001b[0m\u001b[0m\n\u001b[0m\u001b[1;32m    491\u001b[0m \u001b[0;34m\u001b[0m\u001b[0m\n\u001b[1;32m    492\u001b[0m         \u001b[0;32mif\u001b[0m \u001b[0mself\u001b[0m\u001b[0;34m.\u001b[0m\u001b[0m_have_next_result\u001b[0m\u001b[0;34m:\u001b[0m\u001b[0;34m\u001b[0m\u001b[0;34m\u001b[0m\u001b[0m\n",
            "\u001b[0;32m/usr/local/lib/python3.12/dist-packages/mysql/connector/connection.py\u001b[0m in \u001b[0;36m_handle_result\u001b[0;34m(self, packet)\u001b[0m\n\u001b[1;32m    393\u001b[0m             \u001b[0;32mreturn\u001b[0m \u001b[0mself\u001b[0m\u001b[0;34m.\u001b[0m\u001b[0m_handle_eof\u001b[0m\u001b[0;34m(\u001b[0m\u001b[0mpacket\u001b[0m\u001b[0;34m)\u001b[0m\u001b[0;34m\u001b[0m\u001b[0;34m\u001b[0m\u001b[0m\n\u001b[1;32m    394\u001b[0m         \u001b[0;32melif\u001b[0m \u001b[0mpacket\u001b[0m\u001b[0;34m[\u001b[0m\u001b[0;36m4\u001b[0m\u001b[0;34m]\u001b[0m \u001b[0;34m==\u001b[0m \u001b[0;36m255\u001b[0m\u001b[0;34m:\u001b[0m\u001b[0;34m\u001b[0m\u001b[0;34m\u001b[0m\u001b[0m\n\u001b[0;32m--> 395\u001b[0;31m             \u001b[0;32mraise\u001b[0m \u001b[0merrors\u001b[0m\u001b[0;34m.\u001b[0m\u001b[0mget_exception\u001b[0m\u001b[0;34m(\u001b[0m\u001b[0mpacket\u001b[0m\u001b[0;34m)\u001b[0m\u001b[0;34m\u001b[0m\u001b[0;34m\u001b[0m\u001b[0m\n\u001b[0m\u001b[1;32m    396\u001b[0m \u001b[0;34m\u001b[0m\u001b[0m\n\u001b[1;32m    397\u001b[0m         \u001b[0;31m# We have a text result set\u001b[0m\u001b[0;34m\u001b[0m\u001b[0;34m\u001b[0m\u001b[0m\n",
            "\u001b[0;31mProgrammingError\u001b[0m: 1050 (42S01): Table 'Automobil4' already exists"
          ]
        }
      ]
    },
    {
      "cell_type": "markdown",
      "metadata": {
        "id": "nJN5XahCf7sc"
      },
      "source": [
        "# Datové typy\n",
        "V databázích existuje mnoho datových typů, my se ale jimy nebudeme příliš zabívat.\n",
        "Správné zvolení datového typu zefektivňuje chod databáze.\n",
        "Přehled datových typů najdete [zde](https://www.w3schools.com/sql/sql_datatypes.asp).\n",
        "\n",
        "# Cvičení\n",
        "Zde bude následovat série úkolů, díky kterým si můžete ověřit, zda jste látku pochopili.\n",
        "\n",
        "## Cvičení 1:\n",
        "Připojte se k databázi a vytvořte tabulku s názvem Uživatel a atributy id(int), jméno(char(10)), příjmení(char(20)), email(char(50))\n",
        "\n",
        "Nepřidávejte k atributům žádné další vlastnosti\n"
      ]
    },
    {
      "cell_type": "code",
      "metadata": {
        "id": "bAlIaotCf7se",
        "colab": {
          "base_uri": "https://localhost:8080/"
        },
        "outputId": "6af348ae-9918-45c2-df29-d70837ab6dcc"
      },
      "source": [
        "import mysql.connector\n",
        "mydb = mysql.connector.connect(\n",
        "    host = \"dbs.spskladno.cz\"\n",
        "    ,user = \"student11\"\n",
        "    ,password = \"spsnet\"\n",
        "    ,database = \"vyuka11\"\n",
        ")\n",
        "mycursor = mydb.cursor()\n",
        "\n",
        "# TODO: zde vytvořte tabulku\n",
        "mycursor.execute(\"\"\"CREATE TABLE Uživatel(\n",
        "    id int,\n",
        "    jméno char(10),\n",
        "    příjmení char(20),\n",
        "    email char(50)\n",
        ")\"\"\")\n",
        "\n",
        "mydb.commit()\n",
        "\n",
        "# tuto část neměnit!\n",
        "mycursor.execute(\"\"\"DESCRIBE Uživatel\"\"\")\n",
        "table = str(mycursor.fetchall())\n",
        "expected = \"[('id', 'int(11)', 'YES', '', None, ''), ('jméno', 'char(10)', 'YES', '', None, ''), ('příjmení', 'char(20)', 'YES', '', None, ''), ('email', 'char(50)', 'YES', '', None, '')]\"\n",
        "if table == expected:\n",
        "    print(\"Tabulka vytvořena správně.\")\n",
        "else:\n",
        "  print(\"Tabulka není dle zadání.\\nVaše tabulka:\")\n",
        "  print(table)\n",
        "  print(\"Očekávaná tabulka:\")\n",
        "  print(expected)\n",
        "  print(\"Výpis se liší na pozicích:\", [ i for i in range(min(len(table),len(expected))) if table[i] != expected[i] ])\n",
        "\n",
        "\n",
        "mycursor.execute(\"\"\"DROP TABLE Uživatel\"\"\")\n",
        "mydb.commit()\n",
        "\n",
        "mycursor.close()\n",
        "mydb.close()"
      ],
      "execution_count": null,
      "outputs": [
        {
          "output_type": "stream",
          "name": "stdout",
          "text": [
            "Tabulka vytvořena správně.\n"
          ]
        }
      ]
    },
    {
      "cell_type": "markdown",
      "metadata": {
        "id": "9TRvsn6_f7sg"
      },
      "source": [
        "## Cvičení 2:\n",
        "Připojte se k databázi a vytvořte tabulku s názvem Uživatel, atributy a vlastnostmi atributů id(int, PRIMARY KEY, AUTO_INCREMENT), jméno(char(10), NOT NULL), příjmení(char(20), NOT NULL), email(char(50), NOT NULL, UNIQUE)"
      ]
    },
    {
      "cell_type": "code",
      "metadata": {
        "id": "LjrmmTUSf7si",
        "colab": {
          "base_uri": "https://localhost:8080/"
        },
        "outputId": "422ce794-84a0-48fa-e4f3-eb107437bcbb"
      },
      "source": [
        "import mysql.connector\n",
        "mydb = mysql.connector.connect(\n",
        "    host = \"dbs.spskladno.cz\"\n",
        "    ,user = \"student11\"\n",
        "    ,password = \"spsnet\"\n",
        "    ,database = \"vyuka11\"\n",
        ")\n",
        "mycursor = mydb.cursor()\n",
        "\n",
        "# TODO: zde přijde váš kód ->\n",
        "mycursor.execute(\"\"\"CREATE TABLE Uživatel(\n",
        "    id int PRIMARY KEY AUTO_INCREMENT,\n",
        "    jméno char(10) NOT NULL,\n",
        "    příjmení char(20) NOT NULL,\n",
        "    email char(50) NOT NULL UNIQUE\n",
        ")\"\"\")\n",
        "mydb.commit()\n",
        "\n",
        "# tuto část neměnit!\n",
        "mycursor.execute(\"\"\"DESCRIBE Uživatel\"\"\")\n",
        "table = str(mycursor.fetchall())\n",
        "expected = \"[('id', 'int(11)', 'NO', 'PRI', None, 'auto_increment'), ('jméno', 'char(10)', 'NO', '', None, ''), ('příjmení', 'char(20)', 'NO', '', None, ''), ('email', 'char(50)', 'NO', 'UNI', None, '')]\"\n",
        "if table == expected:\n",
        "    print(\"Tabulka vytvořena správně.\")\n",
        "else:\n",
        "  print(\"Tabulka není dle zadání.\\nVaše tabulka:\")\n",
        "  print(table)\n",
        "  print(\"Očekávaná tabulka:\")\n",
        "  print(expected)\n",
        "  print(\"Výpis se liší na pozicích:\", [ i for i in range(min(len(table),len(expected))) if table[i] != expected[i] ])\n",
        "\n",
        "mycursor.execute(\"\"\"DROP TABLE Uživatel\"\"\")\n",
        "mydb.commit()\n",
        "\n",
        "mycursor.close()\n",
        "mydb.close()"
      ],
      "execution_count": null,
      "outputs": [
        {
          "output_type": "stream",
          "name": "stdout",
          "text": [
            "Tabulka vytvořena správně.\n"
          ]
        }
      ]
    },
    {
      "cell_type": "markdown",
      "metadata": {
        "id": "Fq_VXRG2f7sk"
      },
      "source": [
        "## Cvičení 3:\n",
        "Dopište kód tak, aby se tabulka Uživatel rozšířila o atribut datum_narození(date). Pro rozšíření použijte příkaz ALTER"
      ]
    },
    {
      "cell_type": "code",
      "metadata": {
        "id": "AWH-aX5hf7sm",
        "colab": {
          "base_uri": "https://localhost:8080/"
        },
        "outputId": "2413e682-155c-4064-9580-1061d651181a"
      },
      "source": [
        "import mysql.connector\n",
        "mydb = mysql.connector.connect(\n",
        "    host = \"dbs.spskladno.cz\"\n",
        "    ,user = \"student11\"\n",
        "    ,password = \"spsnet\"\n",
        "    ,database = \"vyuka11\"\n",
        ")\n",
        "mycursor = mydb.cursor()\n",
        "\n",
        "# tento příkaz neměnit!\n",
        "mycursor.execute(\"\"\"CREATE TABLE Uživatel(\n",
        "    id int,\n",
        "    jméno char(10),\n",
        "    příjmení char(20),\n",
        "    email char(50)\n",
        "    )\"\"\")\n",
        "mydb.commit()\n",
        "\n",
        "# TODO: zde přijde váš kód ->\n",
        "mycursor.execute(\"\"\"ALTER TABLE Uživatel ADD datum_narození date;\"\"\")\n",
        "\n",
        "# tuto část neměnit!\n",
        "mycursor.execute(\"\"\"DESCRIBE Uživatel\"\"\")\n",
        "table = str(mycursor.fetchall())\n",
        "expected = \"[('id', 'int(11)', 'YES', '', None, ''), ('jméno', 'char(10)', 'YES', '', None, ''), ('příjmení', 'char(20)', 'YES', '', None, ''), ('email', 'char(50)', 'YES', '', None, ''), ('datum_narození', 'date', 'YES', '', None, '')]\"\n",
        "if table == expected:\n",
        "    print(\"Tabulka vytvořena správně.\")\n",
        "else:\n",
        "  print(\"Tabulka není dle zadání.\\nVaše tabulka:\")\n",
        "  print(table)\n",
        "  print(\"Očekávaná tabulka:\")\n",
        "  print(expected)\n",
        "  print(\"Výpis se liší na pozicích:\", [ i for i in range(min(len(table),len(expected))) if table[i] != expected[i] ])\n",
        "\n",
        "mycursor.execute(\"\"\"DROP TABLE Uživatel\"\"\")\n",
        "mydb.commit()\n",
        "\n",
        "mycursor.close()\n",
        "mydb.close()"
      ],
      "execution_count": null,
      "outputs": [
        {
          "output_type": "stream",
          "name": "stdout",
          "text": [
            "Tabulka vytvořena správně.\n"
          ]
        }
      ]
    },
    {
      "cell_type": "markdown",
      "metadata": {
        "id": "axmBt1svf7sn"
      },
      "source": [
        "## Cvičení 4:\n",
        "Napište kód, který se připojí na vaši databázi, vytvořte tabulku Test s atributy a vlastnostmi atributů id(int, AUTO_INCREMENT, PRIMARY KEY), nazev(char(15) NOT NULL, UNIQUE).\n",
        "Tabulku pomocí příkazu ALTER rozšiřte o atribut datum(date, NOT NULL).\n",
        "Celou tabulku následně smažte."
      ]
    },
    {
      "cell_type": "markdown",
      "source": [
        "# Závěrečný úkol je celý na vás - výsledek si zkontrolujte přes dbs.spskladno.cz/myadmin\n",
        "import mysql.connector\n",
        "mydb = mysql.connector.connect(\n",
        "    host = \"dbs.spskladno.cz\"\n",
        "    ,user = \"student11\"\n",
        "    ,password = \"spsnet\"\n",
        "    ,database = \"vyuka11\"\n",
        ")\n",
        "mycursor = mydb.cursor()\n",
        "\n",
        "# tento příkaz neměnit!\n",
        "mycursor.execute(\"\"\"CREATE TABLE Test(\n",
        "    id int AUTO_INCREMENT PRIMARY KEY ,\n",
        "    nazev char(15) NOT NULL UNIQUE\n",
        "    )\"\"\")\n",
        "mydb.commit()\n",
        "\n",
        "# TODO: zde přijde váš kód ->\n",
        "mycursor.execute(\"\"\"ALTER TABLE Test ADD datum date NOT NULL)\n",
        "\n",
        "# tuto část neměnit!\n",
        "mycursor.execute(\"\"\"DESCRIBE Uživatel\"\"\")\n",
        "table = str(mycursor.fetchall())\n",
        "expected = \"[('id', 'int(11)', 'YES', '', None, ''), ('jméno', 'char(10)', 'YES', '', None, ''), ('příjmení', 'char(20)', 'YES', '', None, ''), ('email', 'char(50)', 'YES', '', None, ''), ('datum_narození', 'date', 'YES', '', None, '')]\"\n",
        "if table == expected:\n",
        "    print(\"Tabulka vytvořena správně.\")\n",
        "else:\n",
        "  print(\"Tabulka není dle zadání.\\nVaše tabulka:\")\n",
        "  print(table)\n",
        "  print(\"Očekávaná tabulka:\")\n",
        "  print(expected)\n",
        "  print(\"Výpis se liší na pozicích:\", [ i for i in range(min(len(table),len(expected))) if table[i] != expected[i] ])\n",
        "\n",
        "mydb.commit()\n",
        "\n",
        "mycursor.close()\n",
        "mydb.close()"
      ],
      "metadata": {
        "id": "Os7QtJ1Pf7so"
      }
    },
    {
      "cell_type": "code",
      "source": [
        "import mysql.connector\n",
        "mydb = mysql.connector.connect(\n",
        "    host = \"dbs.spskladno.cz\"\n",
        "    ,user = \"student11\"\n",
        "    ,password = \"spsnet\"\n",
        "    ,database = \"vyuka11\"\n",
        ")\n",
        "mycursor = mydb.cursor()\n",
        "\n",
        "# tento příkaz neměnit!\n",
        "mycursor.execute(\"\"\"CREATE TABLE Test1(\n",
        "    id int AUTO_INCREMENT PRIMARY KEY ,\n",
        "    nazev char(15) NOT NULL UNIQUE\n",
        "    )\"\"\")\n",
        "mydb.commit()\n",
        "\n",
        "# TODO: zde přijde váš kód ->\n",
        "mycursor.execute(\"\"\"ALTER TABLE Test1 ADD datum date NOT NULL;\"\"\")\n",
        "\n",
        "# tuto část neměnit!\n",
        "mycursor.execute(\"\"\"DESCRIBE Test1\"\"\")\n",
        "table = str(mycursor.fetchall())\n",
        "expected = \"[('id', 'int(11)', 'YES', '', None, ''), ('jméno', 'char(10)', 'YES', '', None, ''), ('příjmení', 'char(20)', 'YES', '', None, ''), ('email', 'char(50)', 'YES', '', None, ''), ('datum_narození', 'date', 'YES', '', None, '')]\"\n",
        "if table == expected:\n",
        "    print(\"Tabulka vytvořena správně.\")\n",
        "else:\n",
        "  print(\"Tabulka není dle zadání.\\nVaše tabulka:\")\n",
        "  print(table)\n",
        "  print(\"Očekávaná tabulka:\")\n",
        "  print(expected)\n",
        "  print(\"Výpis se liší na pozicích:\", [ i for i in range(min(len(table),len(expected))) if table[i] != expected[i] ])\n",
        "\n",
        "mydb.commit()\n",
        "\n",
        "mycursor.close()\n",
        "mydb.close()"
      ],
      "metadata": {
        "colab": {
          "base_uri": "https://localhost:8080/"
        },
        "id": "-uISdgLhQbbF",
        "outputId": "a228b729-7845-4c33-d2c1-3b7297a590f2"
      },
      "execution_count": null,
      "outputs": [
        {
          "output_type": "stream",
          "name": "stdout",
          "text": [
            "Tabulka není dle zadání.\n",
            "Vaše tabulka:\n",
            "[('id', 'int(11)', 'NO', 'PRI', None, 'auto_increment'), ('nazev', 'char(15)', 'NO', 'UNI', None, ''), ('datum', 'date', 'NO', '', None, '')]\n",
            "Očekávaná tabulka:\n",
            "[('id', 'int(11)', 'YES', '', None, ''), ('jméno', 'char(10)', 'YES', '', None, ''), ('příjmení', 'char(20)', 'YES', '', None, ''), ('email', 'char(50)', 'YES', '', None, ''), ('datum_narození', 'date', 'YES', '', None, '')]\n",
            "Výpis se liší na pozicích: [20, 21, 22, 23, 24, 25, 26, 27, 28, 29, 30, 31, 32, 33, 34, 35, 36, 37, 38, 39, 40, 41, 42, 43, 44, 45, 46, 47, 48, 49, 50, 51, 52, 53, 54, 55, 56, 57, 58, 59, 60, 61, 62, 63, 64, 65, 66, 68, 69, 70, 71, 72, 73, 74, 75, 76, 77, 78, 79, 80, 81, 82, 85, 86, 87, 88, 89, 90, 91, 92, 93, 94, 95, 99, 100, 101, 102, 104, 105, 106, 107, 108, 109, 111, 112, 113, 114, 115, 116, 117, 121, 122, 123, 124, 129, 130, 131, 132, 133, 135, 136, 137, 138, 139, 140]\n"
          ]
        }
      ]
    },
    {
      "cell_type": "markdown",
      "metadata": {
        "id": "9AY8x-6ay_cj"
      },
      "source": [
        "<p>Výsledek v MyAdmin</p>\n",
        "<img width=\"500\" src=\"https://raw.githubusercontent.com/JaroslavHolecek/Teaching/master/JupyterNotebook/SQL/Images/JyputerNotebook_checkExercise_SQLcreate.png\">"
      ]
    },
    {
      "cell_type": "code",
      "metadata": {
        "id": "x1xxlCWYwkD5"
      },
      "source": [
        "# zde tabulku po kontrole správnosti smažte - výsledek si zkontrolujte přes dbs.spskladno.cz/myadmin\n",
        "mydb = mysql.connector.connect(\n",
        "    host = \"dbs.spskladno.cz\"\n",
        "    ,user = \"student11\"\n",
        "    ,password = \"spsnet\"\n",
        "    ,database = \"vyuka11\"\n",
        ")\n",
        "mycursor = mydb.cursor()\n",
        "\n",
        "mycursor.execute(\"\"\"DROP TABLE Test;\"\"\")\n",
        "\n",
        "mydb.commit()\n",
        "\n",
        "mycursor.close()\n",
        "mydb.close()"
      ],
      "execution_count": null,
      "outputs": []
    }
  ]
}